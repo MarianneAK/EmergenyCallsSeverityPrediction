{
 "cells": [
  {
   "cell_type": "code",
   "execution_count": null,
   "metadata": {},
   "outputs": [],
   "source": [
    "import os\n",
    "from pydub import AudioSegment\n",
    "from pydub.utils import make_chunks\n",
    "from vosk import Model, KaldiRecognizer\n",
    "import sys\n",
    "import json\n",
    "import csv\n",
    "from tqdm import tqdm\n",
    "import numpy as np\n",
    "\n",
    "chunks_dir = '/home/mabikana/Documents/PhD/Datasets/RECOLA/audio_chunks'\n",
    "speech_to_text_model_dir = '/home/mabikana/Documents/PhD/SER Code/EmergencyOutcomePrediction/speech_to_text/model'\n",
    "\n",
    "speech_to_text_model = Model(speech_to_text_model_dir)\n",
    "\n",
    "# Large vocabulary free form recognition\n",
    "rec = KaldiRecognizer(speech_to_text_model, 8000)"
   ]
  },
  {
   "cell_type": "code",
   "execution_count": null,
   "metadata": {},
   "outputs": [],
   "source": [
    "def chunk_to_text(chunk_path):\n",
    "    wf = open(chunk_path, \"rb\")\n",
    "    textResults = []\n",
    "    results = \"\"\n",
    "\n",
    "    while True:\n",
    "        data = wf.read(8000)\n",
    "        if len(data) == 0:\n",
    "            break\n",
    "        if rec.AcceptWaveform(data):\n",
    "            recognizerResult = rec.Result()\n",
    "            results = results + recognizerResult\n",
    "            resultDict = json.loads(recognizerResult)\n",
    "            textResults.append(resultDict.get(\"text\", \"\"))\n",
    "\n",
    "    results = results + rec.FinalResult()\n",
    "    resultDict = json.loads(rec.FinalResult())\n",
    "    textResults.append(resultDict.get(\"text\", \"\"))\n",
    "    return ' '.join(textResults)"
   ]
  },
  {
   "cell_type": "code",
   "execution_count": null,
   "metadata": {},
   "outputs": [],
   "source": [
    "wav_text_data = []\n",
    "max_text_len = 0\n",
    "min_text_len = 999999\n",
    "all_lens = []\n",
    "\n",
    "\n",
    "files = os.listdir(chunks_dir)\n",
    "for file in tqdm(files, desc = 'files'):\n",
    "    text = chunk_to_text(chunks_dir + '/' + file)\n",
    "\n",
    "    if(len(text) > max_text_len):\n",
    "        max_text_len = len(text)\n",
    "    if(len(text) < min_text_len):\n",
    "        min_text_len = len(text)\n",
    "\n",
    "    all_lens.append(len(text))\n",
    "\n",
    "    chunk_row = {'chunk_path': file, 'text': text}\n",
    "    wav_text_data.append(chunk_row)\n",
    "\n",
    "print('Max text length = ' + str(max_text_len))\n",
    "print('Min text length = ' + str(min_text_len))\n",
    "print('Avg text length = ' + str(np.mean(all_lens)))\n",
    "        "
   ]
  }
 ],
 "metadata": {
  "kernelspec": {
   "display_name": "Python 3 (ipykernel)",
   "language": "python",
   "name": "python3"
  },
  "language_info": {
   "codemirror_mode": {
    "name": "ipython",
    "version": 3
   },
   "file_extension": ".py",
   "mimetype": "text/x-python",
   "name": "python",
   "nbconvert_exporter": "python",
   "pygments_lexer": "ipython3",
   "version": "3.8.5"
  }
 },
 "nbformat": 4,
 "nbformat_minor": 2
}
